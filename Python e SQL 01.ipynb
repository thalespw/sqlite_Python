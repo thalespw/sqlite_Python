{
 "cells": [
  {
   "cell_type": "markdown",
   "metadata": {},
   "source": [
    "# Integração Python e SQL\n",
    "\n",
    "### Objetivo\n",
    "\n",
    "A integração do Python com o SQL permite que execute comandos SQL diretamente pelo Python no seu banco de dados. Isso vai permitir a gente pegar consultas e já importar elas para dentro de uma análise no Python automaticamente.\n",
    "\n",
    "### O que vamos precisar\n",
    "\n",
    "- Para aprender, vamos usar o SQLite, o objetivo é simplificar a instalação do SQL para que qualquer um consiga acompanhar.\n",
    "- Para isso, vamos precisar apenas de um driver, que vamos instalar aqui: http://www.ch-werner.de/sqliteodbc/\n",
    "- Um banco de dados para testar -> disponível para Download\n",
    "\n",
    "### No Python, o que vamos usar\n",
    "\n",
    "- Biblioteca pyodbc -> pode ser usada com a mesma estrutura para diversos bancos de dados, como SQL Server, MySQL, Oracle, Access, IBM, etc.\n",
    "\n",
    "### Obs Importante\n",
    "\n",
    "- Isso não vai ser um curso completo de SQL, portanto não vamos trabalhar extensivamente todos os comandos SQL, apesar de fazermos todo o CRUD dentro desse módulo.\n",
    "\n",
    "### Quando faz sentido usar Python e SQL? Quando usar só SQL?\n",
    "\n",
    "- Criação do Banco de Dados\n",
    "- Interagir com um sistema"
   ]
  },
  {
   "cell_type": "code",
   "execution_count": 4,
   "metadata": {},
   "outputs": [
    {
     "name": "stdout",
     "output_type": "stream",
     "text": [
      "['SQL Server', 'Microsoft Access Driver (*.mdb, *.accdb)', 'Microsoft Excel Driver (*.xls, *.xlsx, *.xlsm, *.xlsb)', 'Microsoft Access Text Driver (*.txt, *.csv)', 'SQLite3 ODBC Driver', 'SQLite ODBC Driver', 'SQLite ODBC (UTF-8) Driver']\n"
     ]
    }
   ],
   "source": [
    "import pyodbc\n",
    "print(pyodbc.drivers())"
   ]
  }
 ],
 "metadata": {
  "kernelspec": {
   "display_name": "Python 3",
   "language": "python",
   "name": "python3"
  },
  "language_info": {
   "codemirror_mode": {
    "name": "ipython",
    "version": 3
   },
   "file_extension": ".py",
   "mimetype": "text/x-python",
   "name": "python",
   "nbconvert_exporter": "python",
   "pygments_lexer": "ipython3",
   "version": "3.13.3"
  }
 },
 "nbformat": 4,
 "nbformat_minor": 4
}
